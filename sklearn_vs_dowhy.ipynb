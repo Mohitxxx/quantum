{
 "cells": [
  {
   "cell_type": "markdown",
   "id": "e278b126",
   "metadata": {},
   "source": [
    "# Comparing Predictive Modeling vs Causal Inference in One Notebook"
   ]
  },
  {
   "cell_type": "markdown",
   "id": "94743905",
   "metadata": {},
   "source": [
    "This notebook demonstrates how to:\n",
    "- Use **scikit-learn** for predictive regression\n",
    "- Use **DoWhy** for causal effect estimation\n",
    "\n",
    "We simulate data where `study_hours` influences `score`, with `attendance` as a confounder."
   ]
  },
  {
   "cell_type": "code",
   "execution_count": null,
   "id": "e7dac0d7",
   "metadata": {},
   "outputs": [],
   "source": [
    "import pandas as pd\n",
    "import numpy as np\n",
    "import matplotlib.pyplot as plt\n",
    "\n",
    "from sklearn.linear_model import LinearRegression\n",
    "from sklearn.model_selection import train_test_split\n",
    "\n",
    "# Install DoWhy if necessary\n",
    "# !pip install dowhy\n",
    "from dowhy import CausalModel\n",
    "\n",
    "# Set seed for reproducibility\n",
    "np.random.seed(0)"
   ]
  },
  {
   "cell_type": "code",
   "execution_count": null,
   "id": "329f4bea",
   "metadata": {},
   "outputs": [],
   "source": [
    "# Generate synthetic data\n",
    "n = 500\n",
    "attendance = np.random.normal(0, 1, n)\n",
    "study_hours = 2 * attendance + np.random.normal(0, 1, n)\n",
    "score = 5 * study_hours + 3 * attendance + np.random.normal(0, 2, n)\n",
    "\n",
    "df = pd.DataFrame({'study_hours': study_hours, 'attendance': attendance, 'score': score})\n",
    "df.head()"
   ]
  },
  {
   "cell_type": "markdown",
   "id": "1dfaced7",
   "metadata": {},
   "source": [
    "## 1. Predictive Modeling with scikit-learn"
   ]
  },
  {
   "cell_type": "code",
   "execution_count": null,
   "id": "ab0aa4ac",
   "metadata": {},
   "outputs": [],
   "source": [
    "# Prepare data\n",
    "X = df[['study_hours', 'attendance']]\n",
    "y = df['score']\n",
    "\n",
    "X_train, X_test, y_train, y_test = train_test_split(X, y, test_size=0.2, random_state=0)\n",
    "\n",
    "# Fit linear regression\n",
    "model = LinearRegression()\n",
    "model.fit(X_train, y_train)\n",
    "\n",
    "print(\"Coefficients:\", model.coef_)\n",
    "print(\"Intercept:\", model.intercept_)"
   ]
  },
  {
   "cell_type": "markdown",
   "id": "83830daf",
   "metadata": {},
   "source": [
    "The coefficients show how the outcome `score` changes with each predictor, but this is correlational, not causal."
   ]
  },
  {
   "cell_type": "markdown",
   "id": "fdd45e46",
   "metadata": {},
   "source": [
    "## 2. Causal Inference with DoWhy"
   ]
  },
  {
   "cell_type": "code",
   "execution_count": null,
   "id": "a42e4efd",
   "metadata": {},
   "outputs": [],
   "source": [
    "# Define causal model\n",
    "causal_model = CausalModel(\n",
    "    data=df,\n",
    "    treatment='study_hours',\n",
    "    outcome='score',\n",
    "    common_causes=['attendance']\n",
    ")\n",
    "\n",
    "# Visualize causal graph (optional)\n",
    "# causal_model.view_model()\n",
    "\n",
    "# Identify the causal effect\n",
    "identified_estimand = causal_model.identify_effect()\n",
    "print(identified_estimand)\n",
    "\n",
    "# Estimate causal effect using linear regression (backdoor adjustment)\n",
    "causal_estimate = causal_model.estimate_effect(\n",
    "    identified_estimand,\n",
    "    method_name='backdoor.linear_regression'\n",
    ")\n",
    "print('Causal Estimate:', causal_estimate.value)"
   ]
  },
  {
   "cell_type": "markdown",
   "id": "15b53bb0",
   "metadata": {},
   "source": [
    "The output above is the estimated **causal** effect of `study_hours` on `score`, adjusting for `attendance`."
   ]
  },
  {
   "cell_type": "markdown",
   "id": "cd0607e7",
   "metadata": {},
   "source": [
    "## Summary\n",
    "\n",
    "| Approach            | Tool            | Purpose                                 |\n",
    "|---------------------|-----------------|-----------------------------------------|\n",
    "| Predictive Modeling | scikit-learn    | Fit regression to predict outcomes      |\n",
    "| Causal Inference    | DoWhy           | Estimate treatment effect with backdoor |\n"
   ]
  }
 ],
 "metadata": {},
 "nbformat": 4,
 "nbformat_minor": 5
}
